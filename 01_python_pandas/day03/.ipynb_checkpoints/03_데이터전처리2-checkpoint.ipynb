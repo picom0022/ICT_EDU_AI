{
 "cells": [
  {
   "cell_type": "code",
   "execution_count": 1,
   "id": "1e0bad3d",
   "metadata": {},
   "outputs": [],
   "source": [
    "import numpy\n",
    "from pandas import DataFrame\n",
    "from pandas import Series\n",
    "from pandas import ExcelFile\n",
    "from pandas import concat # 행 단위 병합 기능을 제공하는 함수\n",
    "from pandas import merge # 열단위 병합 기능을 제공하는 함수"
   ]
  },
  {
   "cell_type": "code",
   "execution_count": 2,
   "id": "345a38b2",
   "metadata": {},
   "outputs": [
    {
     "data": {
      "text/html": [
       "<div>\n",
       "<style scoped>\n",
       "    .dataframe tbody tr th:only-of-type {\n",
       "        vertical-align: middle;\n",
       "    }\n",
       "\n",
       "    .dataframe tbody tr th {\n",
       "        vertical-align: top;\n",
       "    }\n",
       "\n",
       "    .dataframe thead th {\n",
       "        text-align: right;\n",
       "    }\n",
       "</style>\n",
       "<table border=\"1\" class=\"dataframe\">\n",
       "  <thead>\n",
       "    <tr style=\"text-align: right;\">\n",
       "      <th></th>\n",
       "      <th>아이디</th>\n",
       "      <th>결제금액</th>\n",
       "    </tr>\n",
       "  </thead>\n",
       "  <tbody>\n",
       "    <tr>\n",
       "      <th>0</th>\n",
       "      <td>hello</td>\n",
       "      <td>14000</td>\n",
       "    </tr>\n",
       "    <tr>\n",
       "      <th>1</th>\n",
       "      <td>world</td>\n",
       "      <td>13000</td>\n",
       "    </tr>\n",
       "    <tr>\n",
       "      <th>2</th>\n",
       "      <td>python</td>\n",
       "      <td>15000</td>\n",
       "    </tr>\n",
       "    <tr>\n",
       "      <th>3</th>\n",
       "      <td>hello</td>\n",
       "      <td>13000</td>\n",
       "    </tr>\n",
       "  </tbody>\n",
       "</table>\n",
       "</div>"
      ],
      "text/plain": [
       "      아이디   결제금액\n",
       "0   hello  14000\n",
       "1   world  13000\n",
       "2  python  15000\n",
       "3   hello  13000"
      ]
     },
     "execution_count": 2,
     "metadata": {},
     "output_type": "execute_result"
    }
   ],
   "source": [
    "df_first = DataFrame({'아이디':['hello','world','python','hello'], '결제금액' : [14000,13000,15000,13000]})\n",
    "df_first"
   ]
  },
  {
   "cell_type": "code",
   "execution_count": 3,
   "id": "9ca9c094",
   "metadata": {},
   "outputs": [
    {
     "data": {
      "text/html": [
       "<div>\n",
       "<style scoped>\n",
       "    .dataframe tbody tr th:only-of-type {\n",
       "        vertical-align: middle;\n",
       "    }\n",
       "\n",
       "    .dataframe tbody tr th {\n",
       "        vertical-align: top;\n",
       "    }\n",
       "\n",
       "    .dataframe thead th {\n",
       "        text-align: right;\n",
       "    }\n",
       "</style>\n",
       "<table border=\"1\" class=\"dataframe\">\n",
       "  <thead>\n",
       "    <tr style=\"text-align: right;\">\n",
       "      <th></th>\n",
       "      <th>아이디</th>\n",
       "      <th>결제금액</th>\n",
       "    </tr>\n",
       "  </thead>\n",
       "  <tbody>\n",
       "    <tr>\n",
       "      <th>0</th>\n",
       "      <td>hello</td>\n",
       "      <td>300</td>\n",
       "    </tr>\n",
       "    <tr>\n",
       "      <th>1</th>\n",
       "      <td>python</td>\n",
       "      <td>500</td>\n",
       "    </tr>\n",
       "    <tr>\n",
       "      <th>2</th>\n",
       "      <td>python</td>\n",
       "      <td>100</td>\n",
       "    </tr>\n",
       "    <tr>\n",
       "      <th>3</th>\n",
       "      <td>world</td>\n",
       "      <td>200</td>\n",
       "    </tr>\n",
       "  </tbody>\n",
       "</table>\n",
       "</div>"
      ],
      "text/plain": [
       "      아이디  결제금액\n",
       "0   hello   300\n",
       "1  python   500\n",
       "2  python   100\n",
       "3   world   200"
      ]
     },
     "execution_count": 3,
     "metadata": {},
     "output_type": "execute_result"
    }
   ],
   "source": [
    "df_second = DataFrame({'아이디':['hello','python','python','world'], '결제금액' : [300,500,100,200]})\n",
    "df_second"
   ]
  },
  {
   "cell_type": "code",
   "execution_count": 4,
   "id": "dea975f8",
   "metadata": {},
   "outputs": [
    {
     "data": {
      "text/html": [
       "<div>\n",
       "<style scoped>\n",
       "    .dataframe tbody tr th:only-of-type {\n",
       "        vertical-align: middle;\n",
       "    }\n",
       "\n",
       "    .dataframe tbody tr th {\n",
       "        vertical-align: top;\n",
       "    }\n",
       "\n",
       "    .dataframe thead th {\n",
       "        text-align: right;\n",
       "    }\n",
       "</style>\n",
       "<table border=\"1\" class=\"dataframe\">\n",
       "  <thead>\n",
       "    <tr style=\"text-align: right;\">\n",
       "      <th></th>\n",
       "      <th>아이디</th>\n",
       "      <th>결제금액_x</th>\n",
       "      <th>결제금액_y</th>\n",
       "    </tr>\n",
       "  </thead>\n",
       "  <tbody>\n",
       "    <tr>\n",
       "      <th>0</th>\n",
       "      <td>hello</td>\n",
       "      <td>14000</td>\n",
       "      <td>300</td>\n",
       "    </tr>\n",
       "    <tr>\n",
       "      <th>1</th>\n",
       "      <td>world</td>\n",
       "      <td>13000</td>\n",
       "      <td>200</td>\n",
       "    </tr>\n",
       "    <tr>\n",
       "      <th>2</th>\n",
       "      <td>python</td>\n",
       "      <td>15000</td>\n",
       "      <td>500</td>\n",
       "    </tr>\n",
       "    <tr>\n",
       "      <th>3</th>\n",
       "      <td>python</td>\n",
       "      <td>15000</td>\n",
       "      <td>100</td>\n",
       "    </tr>\n",
       "    <tr>\n",
       "      <th>4</th>\n",
       "      <td>hello</td>\n",
       "      <td>13000</td>\n",
       "      <td>300</td>\n",
       "    </tr>\n",
       "  </tbody>\n",
       "</table>\n",
       "</div>"
      ],
      "text/plain": [
       "      아이디  결제금액_x  결제금액_y\n",
       "0   hello   14000     300\n",
       "1   world   13000     200\n",
       "2  python   15000     500\n",
       "3  python   15000     100\n",
       "4   hello   13000     300"
      ]
     },
     "execution_count": 4,
     "metadata": {},
     "output_type": "execute_result"
    }
   ],
   "source": [
    "merge(df_first, df_second, on='아이디')"
   ]
  },
  {
   "cell_type": "markdown",
   "id": "73aca769",
   "metadata": {},
   "source": [
    "### g) 공통 컬럼이 두개 이상 존재하는 경우 병합\n",
    "#### 두 데이터 프레임에서 이름이 같은 열은 모두 키가 된다."
   ]
  },
  {
   "cell_type": "code",
   "execution_count": 5,
   "id": "8277ca75",
   "metadata": {},
   "outputs": [
    {
     "data": {
      "text/html": [
       "<div>\n",
       "<style scoped>\n",
       "    .dataframe tbody tr th:only-of-type {\n",
       "        vertical-align: middle;\n",
       "    }\n",
       "\n",
       "    .dataframe tbody tr th {\n",
       "        vertical-align: top;\n",
       "    }\n",
       "\n",
       "    .dataframe thead th {\n",
       "        text-align: right;\n",
       "    }\n",
       "</style>\n",
       "<table border=\"1\" class=\"dataframe\">\n",
       "  <thead>\n",
       "    <tr style=\"text-align: right;\">\n",
       "      <th></th>\n",
       "      <th>고객명</th>\n",
       "      <th>데이터</th>\n",
       "      <th>날짜</th>\n",
       "    </tr>\n",
       "  </thead>\n",
       "  <tbody>\n",
       "    <tr>\n",
       "      <th>0</th>\n",
       "      <td>민수</td>\n",
       "      <td>20000</td>\n",
       "      <td>2024-01-01</td>\n",
       "    </tr>\n",
       "    <tr>\n",
       "      <th>1</th>\n",
       "      <td>수영</td>\n",
       "      <td>10000</td>\n",
       "      <td>2024-01-01</td>\n",
       "    </tr>\n",
       "  </tbody>\n",
       "</table>\n",
       "</div>"
      ],
      "text/plain": [
       "  고객명    데이터          날짜\n",
       "0  민수  20000  2024-01-01\n",
       "1  수영  10000  2024-01-01"
      ]
     },
     "execution_count": 5,
     "metadata": {},
     "output_type": "execute_result"
    }
   ],
   "source": [
    "df_a = DataFrame({'고객명':['민수','수영'],\n",
    "                 '데이터':['20000','10000'],\n",
    "                  '날짜':['2024-01-01','2024-01-01']\n",
    "                 })\n",
    "df_a"
   ]
  },
  {
   "cell_type": "code",
   "execution_count": 6,
   "id": "62321897",
   "metadata": {},
   "outputs": [
    {
     "data": {
      "text/html": [
       "<div>\n",
       "<style scoped>\n",
       "    .dataframe tbody tr th:only-of-type {\n",
       "        vertical-align: middle;\n",
       "    }\n",
       "\n",
       "    .dataframe tbody tr th {\n",
       "        vertical-align: top;\n",
       "    }\n",
       "\n",
       "    .dataframe thead th {\n",
       "        text-align: right;\n",
       "    }\n",
       "</style>\n",
       "<table border=\"1\" class=\"dataframe\">\n",
       "  <thead>\n",
       "    <tr style=\"text-align: right;\">\n",
       "      <th></th>\n",
       "      <th>고객명</th>\n",
       "      <th>데이터</th>\n",
       "    </tr>\n",
       "  </thead>\n",
       "  <tbody>\n",
       "    <tr>\n",
       "      <th>0</th>\n",
       "      <td>민수</td>\n",
       "      <td>21세</td>\n",
       "    </tr>\n",
       "    <tr>\n",
       "      <th>1</th>\n",
       "      <td>수영</td>\n",
       "      <td>20세</td>\n",
       "    </tr>\n",
       "  </tbody>\n",
       "</table>\n",
       "</div>"
      ],
      "text/plain": [
       "  고객명  데이터\n",
       "0  민수  21세\n",
       "1  수영  20세"
      ]
     },
     "execution_count": 6,
     "metadata": {},
     "output_type": "execute_result"
    }
   ],
   "source": [
    "df_b = DataFrame({'고객명':['민수','수영'],\n",
    "                    '데이터':['21세','20세']\n",
    "                 })\n",
    "df_b"
   ]
  },
  {
   "cell_type": "markdown",
   "id": "b9f3f52a",
   "metadata": {},
   "source": [
    "### merge처리하기\n",
    "#### 고객컬럼과 데이터컬럼이 동시에 일치하는 데이터를 찾아서 병합한다.\n",
    "> 존재하지 않으므로 결과는 없다"
   ]
  },
  {
   "cell_type": "code",
   "execution_count": 7,
   "id": "9d1cc8db",
   "metadata": {},
   "outputs": [
    {
     "data": {
      "text/html": [
       "<div>\n",
       "<style scoped>\n",
       "    .dataframe tbody tr th:only-of-type {\n",
       "        vertical-align: middle;\n",
       "    }\n",
       "\n",
       "    .dataframe tbody tr th {\n",
       "        vertical-align: top;\n",
       "    }\n",
       "\n",
       "    .dataframe thead th {\n",
       "        text-align: right;\n",
       "    }\n",
       "</style>\n",
       "<table border=\"1\" class=\"dataframe\">\n",
       "  <thead>\n",
       "    <tr style=\"text-align: right;\">\n",
       "      <th></th>\n",
       "      <th>고객명</th>\n",
       "      <th>데이터</th>\n",
       "      <th>날짜</th>\n",
       "    </tr>\n",
       "  </thead>\n",
       "  <tbody>\n",
       "  </tbody>\n",
       "</table>\n",
       "</div>"
      ],
      "text/plain": [
       "Empty DataFrame\n",
       "Columns: [고객명, 데이터, 날짜]\n",
       "Index: []"
      ]
     },
     "execution_count": 7,
     "metadata": {},
     "output_type": "execute_result"
    }
   ],
   "source": [
    "merge(df_a,df_b)"
   ]
  },
  {
   "cell_type": "markdown",
   "id": "3974afb0",
   "metadata": {},
   "source": [
    "### `on` 파라미터를 사용하여 기준 열 지정하기\n",
    "#### df_a의 데이터는 금액을 의미하지만 dff_b의 데이터는 나이를 의미하므로 병합의 기준으로 사용되어서는 안된다."
   ]
  },
  {
   "cell_type": "code",
   "execution_count": 8,
   "id": "f113aa67",
   "metadata": {},
   "outputs": [
    {
     "data": {
      "text/html": [
       "<div>\n",
       "<style scoped>\n",
       "    .dataframe tbody tr th:only-of-type {\n",
       "        vertical-align: middle;\n",
       "    }\n",
       "\n",
       "    .dataframe tbody tr th {\n",
       "        vertical-align: top;\n",
       "    }\n",
       "\n",
       "    .dataframe thead th {\n",
       "        text-align: right;\n",
       "    }\n",
       "</style>\n",
       "<table border=\"1\" class=\"dataframe\">\n",
       "  <thead>\n",
       "    <tr style=\"text-align: right;\">\n",
       "      <th></th>\n",
       "      <th>고객명</th>\n",
       "      <th>금액</th>\n",
       "      <th>날짜</th>\n",
       "      <th>나이</th>\n",
       "    </tr>\n",
       "  </thead>\n",
       "  <tbody>\n",
       "    <tr>\n",
       "      <th>0</th>\n",
       "      <td>민수</td>\n",
       "      <td>20000</td>\n",
       "      <td>2024-01-01</td>\n",
       "      <td>21세</td>\n",
       "    </tr>\n",
       "    <tr>\n",
       "      <th>1</th>\n",
       "      <td>수영</td>\n",
       "      <td>10000</td>\n",
       "      <td>2024-01-01</td>\n",
       "      <td>20세</td>\n",
       "    </tr>\n",
       "  </tbody>\n",
       "</table>\n",
       "</div>"
      ],
      "text/plain": [
       "  고객명     금액          날짜   나이\n",
       "0  민수  20000  2024-01-01  21세\n",
       "1  수영  10000  2024-01-01  20세"
      ]
     },
     "execution_count": 8,
     "metadata": {},
     "output_type": "execute_result"
    }
   ],
   "source": [
    "# 기준 열이 아니면서 이름이 같은 열에는 _x 또는 _y 가 붙는다.\n",
    "m_res = merge(df_a, df_b, on=['고객명'])\n",
    "m_res2 = m_res.rename(columns={'데이터_x':'금액','데이터_y':'나이'})\n",
    "m_res2"
   ]
  },
  {
   "cell_type": "markdown",
   "id": "2841ebce",
   "metadata": {},
   "source": [
    "## h) 공통 컬럼이 존재하지 않는 경우 병합\n",
    "\n",
    "### left_on, right_on 파라미터를 사용하여 병합의 기준이 되는 열 이름을 명시해야 한다."
   ]
  },
  {
   "cell_type": "code",
   "execution_count": 9,
   "id": "b5792cd9",
   "metadata": {},
   "outputs": [
    {
     "name": "stdout",
     "output_type": "stream",
     "text": [
      "   이름  국어\n",
      "0  영희  87\n",
      "1  철수  91\n",
      "   성명  영어\n",
      "0  영희  90\n",
      "1  철수  82\n"
     ]
    }
   ],
   "source": [
    "국어점수 = DataFrame({'이름': ['영희','철수'],'국어':[87,91]})\n",
    "영어점수 = DataFrame({'성명': ['영희','철수'],'영어':[90,82]})\n",
    "print(국어점수)\n",
    "print(영어점수)"
   ]
  },
  {
   "cell_type": "markdown",
   "id": "595af44b",
   "metadata": {},
   "source": [
    "### 왼쪽의 이름컬럼과 오른쪽의 성명 컬럼이 같은 데이터 병합"
   ]
  },
  {
   "cell_type": "code",
   "execution_count": 10,
   "id": "f683cb0f",
   "metadata": {},
   "outputs": [
    {
     "data": {
      "text/html": [
       "<div>\n",
       "<style scoped>\n",
       "    .dataframe tbody tr th:only-of-type {\n",
       "        vertical-align: middle;\n",
       "    }\n",
       "\n",
       "    .dataframe tbody tr th {\n",
       "        vertical-align: top;\n",
       "    }\n",
       "\n",
       "    .dataframe thead th {\n",
       "        text-align: right;\n",
       "    }\n",
       "</style>\n",
       "<table border=\"1\" class=\"dataframe\">\n",
       "  <thead>\n",
       "    <tr style=\"text-align: right;\">\n",
       "      <th></th>\n",
       "      <th>이름</th>\n",
       "      <th>국어</th>\n",
       "      <th>성명</th>\n",
       "      <th>영어</th>\n",
       "    </tr>\n",
       "  </thead>\n",
       "  <tbody>\n",
       "    <tr>\n",
       "      <th>0</th>\n",
       "      <td>영희</td>\n",
       "      <td>87</td>\n",
       "      <td>영희</td>\n",
       "      <td>90</td>\n",
       "    </tr>\n",
       "    <tr>\n",
       "      <th>1</th>\n",
       "      <td>철수</td>\n",
       "      <td>91</td>\n",
       "      <td>철수</td>\n",
       "      <td>82</td>\n",
       "    </tr>\n",
       "  </tbody>\n",
       "</table>\n",
       "</div>"
      ],
      "text/plain": [
       "   이름  국어  성명  영어\n",
       "0  영희  87  영희  90\n",
       "1  철수  91  철수  82"
      ]
     },
     "execution_count": 10,
     "metadata": {},
     "output_type": "execute_result"
    }
   ],
   "source": [
    "국영 = merge(국어점수, 영어점수, left_on=['이름'],right_on=['성명'])\n",
    "국영"
   ]
  },
  {
   "cell_type": "markdown",
   "id": "fd2bbc2a",
   "metadata": {},
   "source": [
    "### 중복되는값을 갖는 `성명` 컬럼은 필요 없으므로 삭제"
   ]
  },
  {
   "cell_type": "code",
   "execution_count": 11,
   "id": "6579f3f6",
   "metadata": {},
   "outputs": [
    {
     "data": {
      "text/html": [
       "<div>\n",
       "<style scoped>\n",
       "    .dataframe tbody tr th:only-of-type {\n",
       "        vertical-align: middle;\n",
       "    }\n",
       "\n",
       "    .dataframe tbody tr th {\n",
       "        vertical-align: top;\n",
       "    }\n",
       "\n",
       "    .dataframe thead th {\n",
       "        text-align: right;\n",
       "    }\n",
       "</style>\n",
       "<table border=\"1\" class=\"dataframe\">\n",
       "  <thead>\n",
       "    <tr style=\"text-align: right;\">\n",
       "      <th></th>\n",
       "      <th>이름</th>\n",
       "      <th>국어</th>\n",
       "      <th>영어</th>\n",
       "    </tr>\n",
       "  </thead>\n",
       "  <tbody>\n",
       "    <tr>\n",
       "      <th>0</th>\n",
       "      <td>영희</td>\n",
       "      <td>87</td>\n",
       "      <td>90</td>\n",
       "    </tr>\n",
       "    <tr>\n",
       "      <th>1</th>\n",
       "      <td>철수</td>\n",
       "      <td>91</td>\n",
       "      <td>82</td>\n",
       "    </tr>\n",
       "  </tbody>\n",
       "</table>\n",
       "</div>"
      ],
      "text/plain": [
       "   이름  국어  영어\n",
       "0  영희  87  90\n",
       "1  철수  91  82"
      ]
     },
     "execution_count": 11,
     "metadata": {},
     "output_type": "execute_result"
    }
   ],
   "source": [
    "국영.drop('성명',axis=1,inplace=True)\n",
    "국영"
   ]
  },
  {
   "cell_type": "code",
   "execution_count": 12,
   "id": "8e62388f",
   "metadata": {},
   "outputs": [
    {
     "name": "stdout",
     "output_type": "stream",
     "text": [
      "    수학\n",
      "민철  90\n",
      "봉구  82\n",
      "    과학\n",
      "민철  90\n",
      "철수  82\n"
     ]
    }
   ],
   "source": [
    "수학점수 = DataFrame({'수학':[90,82]}, index=['민철','봉구'])\n",
    "과학점수 = DataFrame({'과학':[90,82]}, index=['민철','철수'])\n",
    "print(수학점수)\n",
    "print(과학점수)"
   ]
  },
  {
   "cell_type": "markdown",
   "id": "a537d939",
   "metadata": {},
   "source": [
    "### 인덱스를 기준으로 병합\n",
    "### `left_index= True`,`right_index = True` 파라미터를 선택적으로 사용한다."
   ]
  },
  {
   "cell_type": "code",
   "execution_count": 13,
   "id": "507c875d",
   "metadata": {},
   "outputs": [
    {
     "data": {
      "text/html": [
       "<div>\n",
       "<style scoped>\n",
       "    .dataframe tbody tr th:only-of-type {\n",
       "        vertical-align: middle;\n",
       "    }\n",
       "\n",
       "    .dataframe tbody tr th {\n",
       "        vertical-align: top;\n",
       "    }\n",
       "\n",
       "    .dataframe thead th {\n",
       "        text-align: right;\n",
       "    }\n",
       "</style>\n",
       "<table border=\"1\" class=\"dataframe\">\n",
       "  <thead>\n",
       "    <tr style=\"text-align: right;\">\n",
       "      <th></th>\n",
       "      <th>수학</th>\n",
       "      <th>과학</th>\n",
       "    </tr>\n",
       "  </thead>\n",
       "  <tbody>\n",
       "    <tr>\n",
       "      <th>민철</th>\n",
       "      <td>90</td>\n",
       "      <td>90</td>\n",
       "    </tr>\n",
       "  </tbody>\n",
       "</table>\n",
       "</div>"
      ],
      "text/plain": [
       "    수학  과학\n",
       "민철  90  90"
      ]
     },
     "execution_count": 13,
     "metadata": {},
     "output_type": "execute_result"
    }
   ],
   "source": [
    "수과 = merge(수학점수, 과학점수, left_index=True, right_index=True)\n",
    "수과"
   ]
  },
  {
   "cell_type": "code",
   "execution_count": 14,
   "id": "8fbf3336",
   "metadata": {},
   "outputs": [
    {
     "data": {
      "text/html": [
       "<div>\n",
       "<style scoped>\n",
       "    .dataframe tbody tr th:only-of-type {\n",
       "        vertical-align: middle;\n",
       "    }\n",
       "\n",
       "    .dataframe tbody tr th {\n",
       "        vertical-align: top;\n",
       "    }\n",
       "\n",
       "    .dataframe thead th {\n",
       "        text-align: right;\n",
       "    }\n",
       "</style>\n",
       "<table border=\"1\" class=\"dataframe\">\n",
       "  <thead>\n",
       "    <tr style=\"text-align: right;\">\n",
       "      <th></th>\n",
       "      <th>수학</th>\n",
       "      <th>과학</th>\n",
       "    </tr>\n",
       "  </thead>\n",
       "  <tbody>\n",
       "    <tr>\n",
       "      <th>민철</th>\n",
       "      <td>90.0</td>\n",
       "      <td>90.0</td>\n",
       "    </tr>\n",
       "    <tr>\n",
       "      <th>봉구</th>\n",
       "      <td>82.0</td>\n",
       "      <td>NaN</td>\n",
       "    </tr>\n",
       "    <tr>\n",
       "      <th>철수</th>\n",
       "      <td>NaN</td>\n",
       "      <td>82.0</td>\n",
       "    </tr>\n",
       "  </tbody>\n",
       "</table>\n",
       "</div>"
      ],
      "text/plain": [
       "      수학    과학\n",
       "민철  90.0  90.0\n",
       "봉구  82.0   NaN\n",
       "철수   NaN  82.0"
      ]
     },
     "execution_count": 14,
     "metadata": {},
     "output_type": "execute_result"
    }
   ],
   "source": [
    "수과1 = merge(수학점수, 과학점수, left_index=True, right_index=True, how = 'outer')\n",
    "수과1"
   ]
  },
  {
   "cell_type": "markdown",
   "id": "e81df05a",
   "metadata": {},
   "source": [
    "### 왼쪽에서는 인덱스사용, 오른쪽에서는 이름 사용\n",
    "#### 인덱스가 사라지고 모든 컬럼으로 지정된다."
   ]
  },
  {
   "cell_type": "code",
   "execution_count": 15,
   "id": "4b770f35",
   "metadata": {},
   "outputs": [
    {
     "name": "stdout",
     "output_type": "stream",
     "text": [
      "    한국사\n",
      "영희   87\n",
      "철수   91\n",
      "   세계사  이름\n",
      "0   90  영희\n",
      "1   82  철수\n"
     ]
    }
   ],
   "source": [
    "한국사 = DataFrame({'한국사':[87,91]}, index=['영희','철수'])\n",
    "세계사 = DataFrame({'세계사':[90,82], '이름':['영희','철수']})\n",
    "print(한국사)\n",
    "print(세계사)"
   ]
  },
  {
   "cell_type": "code",
   "execution_count": 16,
   "id": "f91de3f8",
   "metadata": {},
   "outputs": [
    {
     "data": {
      "text/html": [
       "<div>\n",
       "<style scoped>\n",
       "    .dataframe tbody tr th:only-of-type {\n",
       "        vertical-align: middle;\n",
       "    }\n",
       "\n",
       "    .dataframe tbody tr th {\n",
       "        vertical-align: top;\n",
       "    }\n",
       "\n",
       "    .dataframe thead th {\n",
       "        text-align: right;\n",
       "    }\n",
       "</style>\n",
       "<table border=\"1\" class=\"dataframe\">\n",
       "  <thead>\n",
       "    <tr style=\"text-align: right;\">\n",
       "      <th></th>\n",
       "      <th>한국사</th>\n",
       "      <th>세계사</th>\n",
       "      <th>이름</th>\n",
       "    </tr>\n",
       "  </thead>\n",
       "  <tbody>\n",
       "    <tr>\n",
       "      <th>0</th>\n",
       "      <td>87</td>\n",
       "      <td>90</td>\n",
       "      <td>영희</td>\n",
       "    </tr>\n",
       "    <tr>\n",
       "      <th>1</th>\n",
       "      <td>91</td>\n",
       "      <td>82</td>\n",
       "      <td>철수</td>\n",
       "    </tr>\n",
       "  </tbody>\n",
       "</table>\n",
       "</div>"
      ],
      "text/plain": [
       "   한국사  세계사  이름\n",
       "0   87   90  영희\n",
       "1   91   82  철수"
      ]
     },
     "execution_count": 16,
     "metadata": {},
     "output_type": "execute_result"
    }
   ],
   "source": [
    "한세 = merge(한국사, 세계사, left_index=True, right_on=['이름'])\n",
    "한세"
   ]
  },
  {
   "cell_type": "markdown",
   "id": "f826a4e4",
   "metadata": {},
   "source": [
    "#### 새롭게 인덱스로 지정할 데이터 추출"
   ]
  },
  {
   "cell_type": "code",
   "execution_count": 17,
   "id": "3ba09a3d",
   "metadata": {},
   "outputs": [
    {
     "data": {
      "text/plain": [
       "['영희', '철수']"
      ]
     },
     "execution_count": 17,
     "metadata": {},
     "output_type": "execute_result"
    }
   ],
   "source": [
    "이름  = list(한세['이름'].values)\n",
    "이름"
   ]
  },
  {
   "cell_type": "markdown",
   "id": "a84dc2ba",
   "metadata": {},
   "source": [
    "#### {before:after} 형식의 딕셔너리로 구성"
   ]
  },
  {
   "cell_type": "code",
   "execution_count": 18,
   "id": "b43d0889",
   "metadata": {},
   "outputs": [
    {
     "data": {
      "text/plain": [
       "{0: '영희', 1: '철수'}"
      ]
     },
     "execution_count": 18,
     "metadata": {},
     "output_type": "execute_result"
    }
   ],
   "source": [
    "indexDic = {}\n",
    "for k,v in enumerate(이름):\n",
    "    indexDic[k] = v\n",
    "indexDic"
   ]
  },
  {
   "cell_type": "markdown",
   "id": "3cfc57e3",
   "metadata": {},
   "source": [
    "#### 3) 인덱스 변경"
   ]
  },
  {
   "cell_type": "code",
   "execution_count": 19,
   "id": "4c2246ff",
   "metadata": {},
   "outputs": [
    {
     "data": {
      "text/html": [
       "<div>\n",
       "<style scoped>\n",
       "    .dataframe tbody tr th:only-of-type {\n",
       "        vertical-align: middle;\n",
       "    }\n",
       "\n",
       "    .dataframe tbody tr th {\n",
       "        vertical-align: top;\n",
       "    }\n",
       "\n",
       "    .dataframe thead th {\n",
       "        text-align: right;\n",
       "    }\n",
       "</style>\n",
       "<table border=\"1\" class=\"dataframe\">\n",
       "  <thead>\n",
       "    <tr style=\"text-align: right;\">\n",
       "      <th></th>\n",
       "      <th>한국사</th>\n",
       "      <th>세계사</th>\n",
       "      <th>이름</th>\n",
       "    </tr>\n",
       "  </thead>\n",
       "  <tbody>\n",
       "    <tr>\n",
       "      <th>영희</th>\n",
       "      <td>87</td>\n",
       "      <td>90</td>\n",
       "      <td>영희</td>\n",
       "    </tr>\n",
       "    <tr>\n",
       "      <th>철수</th>\n",
       "      <td>91</td>\n",
       "      <td>82</td>\n",
       "      <td>철수</td>\n",
       "    </tr>\n",
       "  </tbody>\n",
       "</table>\n",
       "</div>"
      ],
      "text/plain": [
       "    한국사  세계사  이름\n",
       "영희   87   90  영희\n",
       "철수   91   82  철수"
      ]
     },
     "execution_count": 19,
     "metadata": {},
     "output_type": "execute_result"
    }
   ],
   "source": [
    "한세.rename(index = indexDic, inplace=True)\n",
    "한세"
   ]
  },
  {
   "cell_type": "markdown",
   "id": "2c094a38",
   "metadata": {},
   "source": [
    "#### 4) 이름 컬럼 삭제"
   ]
  },
  {
   "cell_type": "code",
   "execution_count": 20,
   "id": "1a2706d1",
   "metadata": {},
   "outputs": [
    {
     "data": {
      "text/html": [
       "<div>\n",
       "<style scoped>\n",
       "    .dataframe tbody tr th:only-of-type {\n",
       "        vertical-align: middle;\n",
       "    }\n",
       "\n",
       "    .dataframe tbody tr th {\n",
       "        vertical-align: top;\n",
       "    }\n",
       "\n",
       "    .dataframe thead th {\n",
       "        text-align: right;\n",
       "    }\n",
       "</style>\n",
       "<table border=\"1\" class=\"dataframe\">\n",
       "  <thead>\n",
       "    <tr style=\"text-align: right;\">\n",
       "      <th></th>\n",
       "      <th>한국사</th>\n",
       "      <th>세계사</th>\n",
       "    </tr>\n",
       "  </thead>\n",
       "  <tbody>\n",
       "    <tr>\n",
       "      <th>영희</th>\n",
       "      <td>87</td>\n",
       "      <td>90</td>\n",
       "    </tr>\n",
       "    <tr>\n",
       "      <th>철수</th>\n",
       "      <td>91</td>\n",
       "      <td>82</td>\n",
       "    </tr>\n",
       "  </tbody>\n",
       "</table>\n",
       "</div>"
      ],
      "text/plain": [
       "    한국사  세계사\n",
       "영희   87   90\n",
       "철수   91   82"
      ]
     },
     "execution_count": 20,
     "metadata": {},
     "output_type": "execute_result"
    }
   ],
   "source": [
    "한세.drop(['이름'],axis=1, inplace=True)\n",
    "한세"
   ]
  }
 ],
 "metadata": {
  "kernelspec": {
   "display_name": "Python 3 (ipykernel)",
   "language": "python",
   "name": "python3"
  },
  "language_info": {
   "codemirror_mode": {
    "name": "ipython",
    "version": 3
   },
   "file_extension": ".py",
   "mimetype": "text/x-python",
   "name": "python",
   "nbconvert_exporter": "python",
   "pygments_lexer": "ipython3",
   "version": "3.11.7"
  }
 },
 "nbformat": 4,
 "nbformat_minor": 5
}
