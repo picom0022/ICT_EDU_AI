{
 "cells": [
  {
   "cell_type": "markdown",
   "id": "64caf708",
   "metadata": {},
   "source": [
    "# 02_DataFrame\n",
    "\n",
    "- 엑셀의 표 형태로 구성된 데이터 분석의 가장 기본적인 자료구조\n",
    "- **열**과 **행**으로 구성된다.\n",
    "    - **열** : column 이나 변수라고도 부름\n",
    "    - **행** : row 나 index라고도 부름\n",
    "- `열 > 행` 순으로 값에 접근한다.\n",
    "\n",
    "## #01. 필수 패키지 참조\n",
    "\n",
    "### 1) xlsx 파일을 불러오기 위한 의존성 설치\n",
    "엑셀 파일로 부터 DataFrame을 생성하기 위해서는 pandas 모듈 내의 ExcelFile 클래스가 의존하는 모듈들을 추가적으로 설치해야 한다.\n",
    "```\n",
    "pip install --upgrade openpyxl\n",
    "pip install --upgrade xlrd\n",
    "```"
   ]
  },
  {
   "cell_type": "code",
   "execution_count": null,
   "id": "fba56c4d",
   "metadata": {},
   "outputs": [],
   "source": [
    "from pandas import DataFrame\n",
    "from pandas import read_csv\n",
    "from pandas import "
   ]
  },
  {
   "cell_type": "code",
   "execution_count": null,
   "id": "0b69f14d",
   "metadata": {},
   "outputs": [],
   "source": []
  }
 ],
 "metadata": {
  "kernelspec": {
   "display_name": "Python 3 (ipykernel)",
   "language": "python",
   "name": "python3"
  },
  "language_info": {
   "codemirror_mode": {
    "name": "ipython",
    "version": 3
   },
   "file_extension": ".py",
   "mimetype": "text/x-python",
   "name": "python",
   "nbconvert_exporter": "python",
   "pygments_lexer": "ipython3",
   "version": "3.11.7"
  }
 },
 "nbformat": 4,
 "nbformat_minor": 5
}
